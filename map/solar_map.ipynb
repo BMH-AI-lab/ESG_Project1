{
 "cells": [
  {
   "cell_type": "markdown",
   "id": "5f875067",
   "metadata": {},
   "source": [
    "# **1. 라이브러리 임포트**\n",
    "+  전국 태양광 발전소 시각화(좌표 통합 + 개별 클러스터, 지역별 고유 색상 자동 생성)하기 위함 "
   ]
  },
  {
   "cell_type": "code",
   "execution_count": 1,
   "id": "67493138",
   "metadata": {},
   "outputs": [],
   "source": [
    "# ====================================\n",
    "# 🌞 전국 태양광 발전소 시각화 (Spiderfy 완전 비활성화 버전)\n",
    "# ====================================\n",
    "\n",
    "import os, json, time, html, webbrowser, re, colorsys\n",
    "from concurrent.futures import ThreadPoolExecutor, as_completed\n",
    "import pandas as pd\n",
    "import requests\n",
    "from tqdm import tqdm\n",
    "import folium\n",
    "from folium.plugins import MarkerCluster\n",
    "from folium import Element"
   ]
  },
  {
   "cell_type": "markdown",
   "id": "e048e46a",
   "metadata": {},
   "source": [
    "# **2. 수집한 데이터 호출 및 전처리**\n",
    "+ 데이터 전처리 방법\n",
    "    + 엑셀 컬럼명에서 공백, 특수문자 제거\n",
    "    + 전북’, ‘서울시’ 등 비표준 지역명을 ‘전라북도’, ‘서울특별시’로 통일(지역 이름 표준화)\n",
    "    + 설비용량(숫자형 변환), 광역+세부 지역 결합 → 대표지역명 생성\n",
    "    + 주소 컬럼으로 지오코딩 준비\n",
    "        + 지오 코딩: 주소나 장소명 같은 고유명칭을 위도, 경도 좌표로 변환하는 기술"
   ]
  },
  {
   "cell_type": "code",
   "execution_count": 2,
   "id": "1d970744",
   "metadata": {},
   "outputs": [
    {
     "name": "stderr",
     "output_type": "stream",
     "text": [
      "c:\\Anaconda\\envs\\project1\\Lib\\site-packages\\openpyxl\\styles\\stylesheet.py:237: UserWarning: Workbook contains no default style, apply openpyxl's default\n",
      "  warn(\"Workbook contains no default style, apply openpyxl's default\")\n"
     ]
    }
   ],
   "source": [
    "# ===== 경로 / API =====\n",
    "FILE_PATH   = r\"C:\\ESG_Project1\\map\\solar_data.xlsx\"\n",
    "CACHE_FILE  = r\"C:\\ESG_Project1\\map\\coords_cache.json\"\n",
    "OUTPUT_HTML = r\"C:\\ESG_Project1\\map\\solar_map.html\"\n",
    "KAKAO_API_KEY = \"93c089f75a2730af2f15c01838e892d3\"  # 본인 키\n",
    "\n",
    "# ===== 유틸: 컬럼/지역 표준화 =====\n",
    "def clean_cols(cols: pd.Index) -> pd.Index:\n",
    "    return (cols.str.replace('\\ufeff', '', regex=False)\n",
    "                .str.replace(r'\\s+', ' ', regex=True)\n",
    "                .str.strip())\n",
    "\n",
    "PROVINCE_MAP = {\n",
    "    \"전북특별자치도\": \"전라북도\", \"전북\": \"전라북도\",\n",
    "    \"전남\": \"전라남도\", \"경북\": \"경상북도\", \"경남\": \"경상남도\",\n",
    "    \"충북\": \"충청북도\", \"충남\": \"충청남도\",\n",
    "    \"서울시\": \"서울특별시\", \"부산시\": \"부산광역시\", \"대구시\": \"대구광역시\",\n",
    "    \"인천시\": \"인천광역시\", \"광주시\": \"광주광역시\", \"대전시\": \"대전광역시\",\n",
    "    \"울산시\": \"울산광역시\", \"세종시\": \"세종특별자치시\",\n",
    "    \"제주도\": \"제주특별자치도\", \"강원특별자치도\": \"강원도\",\n",
    "}\n",
    "\n",
    "def normalize_region(s: str) -> str:\n",
    "    if pd.isna(s): return \"\"\n",
    "    s = re.sub(r\"\\s+\", \"\", str(s).strip())\n",
    "    return PROVINCE_MAP.get(s, s)\n",
    "\n",
    "def normalize_subregion(s: str) -> str:\n",
    "    if pd.isna(s): return \"\"\n",
    "    return re.sub(r\"\\s+\", \" \", str(s).strip())\n",
    "\n",
    "# ===== 데이터 로드/정리 =====\n",
    "df = pd.read_excel(FILE_PATH)\n",
    "df.columns = clean_cols(df.columns)\n",
    "\n",
    "region_col, subregion_col = '광역지역', '세부지역'\n",
    "df['설비용량'] = pd.to_numeric(df.get('설비용량', 0), errors='coerce').fillna(0)\n",
    "df['광역지역_norm'] = df[region_col].apply(normalize_region)\n",
    "df['세부지역_norm']  = df[subregion_col].apply(normalize_subregion)\n",
    "df['대표지역명'] = (df['광역지역_norm'] + \" \" + df['세부지역_norm']).str.strip()\n",
    "df['주소'] = (df[region_col].astype(str) + \" \" + df[subregion_col].astype(str)).str.strip()\n",
    "\n",
    "# ===== 🔎 나쁜 라벨(빈값/문자 'nan' 등) 제거 규칙 =====\n",
    "BAD_LABELS = {\"\", \"nan\", \"None\", \"알수없음\"}\n",
    "def valid_region(x) -> bool:\n",
    "    if x is None: return False\n",
    "    s = str(x).strip()\n",
    "    return s not in BAD_LABELS\n",
    "\n",
    "# 정규화 후, 광역지역이 유효하지 않은 행 제거\n",
    "df = df[df['광역지역_norm'].apply(valid_region)].copy()\n"
   ]
  },
  {
   "cell_type": "markdown",
   "id": "3f84179a",
   "metadata": {},
   "source": [
    "# **3. 지역별 색상 자동 생성**\n",
    "+ 전처리한 데이터를 지도에 표시하기 위함  "
   ]
  },
  {
   "cell_type": "code",
   "execution_count": 3,
   "id": "68fc32bb",
   "metadata": {},
   "outputs": [],
   "source": [
    "#  ===== 🎨 지역별 자동 색상 (HSV 분할) =====\n",
    "def _hsv_hex(h, s=0.85, v=0.9):\n",
    "    r, g, b = colorsys.hsv_to_rgb(h, s, v)\n",
    "    return '#%02x%02x%02x' % (int(r*255), int(g*255), int(b*255))\n",
    "\n",
    "unique_regions = sorted({str(r).strip() for r in df['광역지역_norm'] if valid_region(r)})\n",
    "palette = [_hsv_hex(i / max(1, len(unique_regions))) for i in range(len(unique_regions))]\n",
    "REGION_COLORS = dict(zip(unique_regions, palette))\n",
    "\n",
    "def pick_region_color(region_norm: str) -> str:\n",
    "    if not valid_region(region_norm):\n",
    "        return \"#7f7f7f\"\n",
    "    return REGION_COLORS.get(str(region_norm).strip(), \"#7f7f7f\")"
   ]
  },
  {
   "cell_type": "markdown",
   "id": "2fd5d586",
   "metadata": {},
   "source": [
    "# **4. 좌표 변환, 통합, 정보 매핑**\n",
    "+ 카카오맵 API로 지오 코딩을 하여 전처리한 데이터 안의 주소를 변환(위도·경도로 변환)\n",
    "+ 같은 위치의 발전소들을 하나의 점으로 합침\n",
    "    + 각 좌표별로 발전소 수, 총 설비용량, 대표 지역명, 대표 광역 지역을 계산\n",
    "+ 좌표를 통해 집계정보 매핑 (개별 발전소 팝업용으로 사용)\n",
    "    + 개별 발전소 마커에서도 \"해당 좌표의 요약 정보\"를 바로 표시하기 위한 매핑 테이블로 사용 \n"
   ]
  },
  {
   "cell_type": "code",
   "execution_count": 4,
   "id": "ed7f0cdb",
   "metadata": {},
   "outputs": [],
   "source": [
    "# ===== 좌표 캐시 + 카카오 지오코딩 =====\n",
    "if os.path.exists(CACHE_FILE):\n",
    "    with open(CACHE_FILE, \"r\", encoding=\"utf-8\") as f:\n",
    "        coords_cache = json.load(f)\n",
    "else:\n",
    "    coords_cache = {}\n",
    "\n",
    "def get_coords_kakao(address: str):\n",
    "    if address in coords_cache:\n",
    "        return address, coords_cache[address]\n",
    "    url = \"https://dapi.kakao.com/v2/local/search/address.json\"\n",
    "    headers = {\"Authorization\": f\"KakaoAK {KAKAO_API_KEY}\"}\n",
    "    params = {\"query\": address}\n",
    "    try:\n",
    "        r = requests.get(url, headers=headers, params=params, timeout=5)\n",
    "        r.raise_for_status()\n",
    "        data = r.json()\n",
    "        if data.get('documents'):\n",
    "            x = float(data['documents'][0]['x']); y = float(data['documents'][0]['y'])\n",
    "            coords_cache[address] = [y, x]\n",
    "        else:\n",
    "            coords_cache[address] = [None, None]\n",
    "    except Exception:\n",
    "        coords_cache[address] = [None, None]\n",
    "    return address, coords_cache[address]\n",
    "\n",
    "targets = [a for a in df['주소'].dropna().unique() if a not in coords_cache]\n",
    "if targets:\n",
    "    print(f\"📡 좌표 요청 대상: {len(targets)}건\")\n",
    "    with ThreadPoolExecutor(max_workers=8) as ex:\n",
    "        futures = [ex.submit(get_coords_kakao, addr) for addr in targets]\n",
    "        for _ in tqdm(as_completed(futures), total=len(futures), desc=\"좌표 변환\"):\n",
    "            _; time.sleep(0.05)\n",
    "    with open(CACHE_FILE, \"w\", encoding=\"utf-8\") as f:\n",
    "        json.dump(coords_cache, f, ensure_ascii=False, indent=2)\n",
    "\n",
    "df['coords'] = df['주소'].map(coords_cache)\n",
    "df[['위도','경도']] = pd.DataFrame(df['coords'].tolist(), index=df.index)\n",
    "df = df.dropna(subset=['위도','경도'])\n",
    "\n",
    "# ===== 좌표 통합 (대표광역이 유효하지 않은 행 제거 포함) =====\n",
    "grouped = (\n",
    "    df.groupby(['위도','경도'], as_index=False)\n",
    "      .agg(\n",
    "          발전소수=('발전기명','count'),\n",
    "          총설비용량=('설비용량','sum'),\n",
    "          대표지역명=('대표지역명', lambda x: x.value_counts().idxmax()),\n",
    "          대표광역=('광역지역_norm', lambda x: x.value_counts().idxmax()),\n",
    "      )\n",
    ")\n",
    "grouped = grouped[grouped['대표광역'].apply(valid_region)].copy()"
   ]
  },
  {
   "cell_type": "markdown",
   "id": "a23c307b",
   "metadata": {},
   "source": [
    "# **5. 지도 생성 및 조정** \n",
    "+ 한국 중심 좌표 기준으로 생성\n",
    "    + 지도 타일 스타일: 밝은 회색(CartoDB positron)\n",
    "+ 세부지역 단위(좌표 통합) 레이어\n",
    "    + 각 지역을 대표 점으로 표시\n",
    "    + 툴팁: 지역명 + 설비용량\n",
    "    + 팝업: 발전소 수, 총 설비용량\n",
    "+ 개별 발전소(클러스터) 레이어\n",
    "    + 각 발전소를 동그라미 마커(CircleMarker)로 표시\n",
    "    + 줌 레벨에 따라 자동 클러스터링\n",
    "+ 지도 표시 범위 조정 & 레이어 컨트롤\n",
    "    + 모든 마커가 화면에 들어오도록 자동 확대\n",
    "    + 지도 우측 상단에서 레이어 on/off 가능하도록 컨트롤 조정함 \n",
    "+ 지역 색상 범례\n",
    "    + 왼쪽 아래에 고정하여 지역 이름과 색상이 한눈에 보이게 표시\n",
    "        + 범례(legend): 지도, 차트, 그래프에서 기호, 색상, 무늬 등이 각각 무엇인지 설명하는 보조 안내 표지"
   ]
  },
  {
   "cell_type": "code",
   "execution_count": 5,
   "id": "97ab0518",
   "metadata": {},
   "outputs": [
    {
     "name": "stderr",
     "output_type": "stream",
     "text": [
      "좌표 통합 마커: 100%|██████████| 249/249 [00:00<00:00, 10692.53it/s]\n",
      "개별 발전소 마커: 100%|██████████| 168938/168938 [00:17<00:00, 9434.54it/s] \n"
     ]
    },
    {
     "data": {
      "text/plain": [
       "<folium.map.LayerControl at 0x1b7a0891b90>"
      ]
     },
     "execution_count": 5,
     "metadata": {},
     "output_type": "execute_result"
    }
   ],
   "source": [
    "# ===== 지도 생성 =====\n",
    "m = folium.Map(location=[36.5, 127.8], zoom_start=7, tiles=\"CartoDB positron\")\n",
    "FIXED_RADIUS = 5\n",
    "\n",
    "# ① 좌표 통합 레이어\n",
    "agg_layer = folium.FeatureGroup(name=\"세부지역 단위(지역별 색)\", show=True).add_to(m)\n",
    "bounds = []\n",
    "for _, r in tqdm(grouped.iterrows(), total=len(grouped), desc=\"좌표 통합 마커\"):\n",
    "    lat, lon = float(r['위도']), float(r['경도'])\n",
    "    name, cap = str(r['대표지역명']), float(r['총설비용량'])\n",
    "    color = pick_region_color(r['대표광역'])\n",
    "    popup_html = (\n",
    "        f\"<b>{html.escape(name)}</b><br>\"\n",
    "        f\"발전소 수: {int(r['발전소수'])}개<br>\"\n",
    "        f\"총 설비용량: {cap:.2f} MW\"\n",
    "    )\n",
    "    folium.CircleMarker(\n",
    "        location=[lat, lon], radius=FIXED_RADIUS,\n",
    "        color=color, fill=True, fill_color=color, fill_opacity=0.85,\n",
    "        popup=folium.Popup(popup_html, max_width=320),\n",
    "        tooltip=f\"{name} ({cap:.2f} MW)\"\n",
    "    ).add_to(agg_layer)\n",
    "    bounds.append([lat, lon])\n",
    "\n",
    "# ② 개별 발전소(클러스터)\n",
    "cluster_detail = MarkerCluster(\n",
    "    name=\"지역별 전체 발전소 갯수 단위(백령도 제외)\",\n",
    "    show=False,\n",
    "    spiderfyOnMaxZoom=False,         # spiderfy 비활성화\n",
    "    disableClusteringAtZoom=None,    # 끝까지 클러스터 유지\n",
    ").add_to(m)\n",
    "\n",
    "for _, row in tqdm(df.iterrows(), total=len(df), desc=\"개별 발전소 마커\"):\n",
    "    lat, lon = float(row['위도']), float(row['경도'])\n",
    "    color = pick_region_color(row['광역지역_norm'])\n",
    "    pop = (\n",
    "        f\"<b>{html.escape(str(row.get('광역지역_norm','')))} \"\n",
    "        f\"{html.escape(str(row.get('세부지역_norm','')))}</b><br>\"\n",
    "        f\"<b>회사명:</b> {html.escape(str(row.get('회사명','정보없음')))}<br>\"\n",
    "        f\"<b>발전기명:</b> {html.escape(str(row.get('발전기명','정보없음')))}<br>\"\n",
    "        f\"<b>발전원:</b> {html.escape(str(row.get('발전원','정보없음')))}<br>\"\n",
    "        f\"<b>설비용량:</b> {float(row.get('설비용량',0)):.2f} MW\"\n",
    "    )\n",
    "    folium.CircleMarker(\n",
    "        location=[lat, lon], radius=FIXED_RADIUS,\n",
    "        color=color, fill=True, fill_color=color, fill_opacity=0.85,\n",
    "        popup=folium.Popup(pop, max_width=320)\n",
    "    ).add_to(cluster_detail)\n",
    "\n",
    "if bounds:\n",
    "    m.fit_bounds(bounds)\n",
    "\n",
    "# ===== 범례(유효 지역만) =====\n",
    "legend_items = ''.join(\n",
    "    f'<div style=\"margin:2px 0;\">'\n",
    "    f'<span style=\"display:inline-block;width:12px;height:12px;'\n",
    "    f'background:{color};border-radius:50%;margin-right:6px;border:1px solid #333;\"></span>'\n",
    "    f'{html.escape(name)}</div>'\n",
    "    for name, color in sorted(REGION_COLORS.items())\n",
    ")\n",
    "legend_html = f'''\n",
    "<div style=\"\n",
    "    position: fixed; left: 20px; bottom: 20px; z-index: 9999;\n",
    "    background: rgba(255,255,255,0.95); padding: 8px 10px; border: 1px solid #888;\n",
    "    border-radius: 6px; font-size: 12px; max-height: 260px; overflow:auto;\">\n",
    "  <b>지역 색상</b>\n",
    "  <div style=\"margin-top:6px;\">{legend_items}</div>\n",
    "</div>\n",
    "'''\n",
    "m.get_root().html.add_child(Element(legend_html))\n",
    "folium.LayerControl(collapsed=False).add_to(m)"
   ]
  },
  {
   "cell_type": "markdown",
   "id": "beefe517",
   "metadata": {},
   "source": [
    "# **6.생성된 지도 저장 및 HTML로 자동으로 열기**"
   ]
  },
  {
   "cell_type": "code",
   "execution_count": 6,
   "id": "6b2ebd85",
   "metadata": {},
   "outputs": [
    {
     "name": "stdout",
     "output_type": "stream",
     "text": [
      "✅ 지도 생성 완료: C:\\ESG_Project1\\map\\solar_map.html\n"
     ]
    },
    {
     "data": {
      "text/plain": [
       "True"
      ]
     },
     "execution_count": 6,
     "metadata": {},
     "output_type": "execute_result"
    }
   ],
   "source": [
    "# 저장 + 열기\n",
    "m.save(OUTPUT_HTML)\n",
    "print(f\"✅ 지도 생성 완료: {OUTPUT_HTML}\")\n",
    "webbrowser.open(OUTPUT_HTML)"
   ]
  },
  {
   "cell_type": "code",
   "execution_count": null,
   "id": "91f12256",
   "metadata": {},
   "outputs": [],
   "source": []
  },
  {
   "cell_type": "code",
   "execution_count": null,
   "id": "75290e15",
   "metadata": {},
   "outputs": [],
   "source": []
  },
  {
   "cell_type": "code",
   "execution_count": null,
   "id": "55f9496c",
   "metadata": {},
   "outputs": [],
   "source": []
  },
  {
   "cell_type": "code",
   "execution_count": null,
   "id": "a3c637bc",
   "metadata": {},
   "outputs": [],
   "source": []
  },
  {
   "cell_type": "code",
   "execution_count": null,
   "id": "767acbee",
   "metadata": {},
   "outputs": [],
   "source": []
  },
  {
   "cell_type": "code",
   "execution_count": null,
   "id": "fd3af596",
   "metadata": {},
   "outputs": [],
   "source": []
  }
 ],
 "metadata": {
  "kernelspec": {
   "display_name": "project1",
   "language": "python",
   "name": "python3"
  },
  "language_info": {
   "codemirror_mode": {
    "name": "ipython",
    "version": 3
   },
   "file_extension": ".py",
   "mimetype": "text/x-python",
   "name": "python",
   "nbconvert_exporter": "python",
   "pygments_lexer": "ipython3",
   "version": "3.11.11"
  }
 },
 "nbformat": 4,
 "nbformat_minor": 5
}

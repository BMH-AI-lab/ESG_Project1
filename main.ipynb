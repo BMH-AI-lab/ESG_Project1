{
 "cells": [
  {
   "cell_type": "code",
   "execution_count": null,
   "id": "3d511239",
   "metadata": {},
   "outputs": [],
   "source": [
    "import sys\n",
    "import os\n",
    "# ===== 모듈 경로 추가 =====\n",
    "sys.path.append(r\"C:\\ESG_Project1\\file\")\n",
    "\n",
    "# ===== 모듈 임포트 =====\n",
    "from auto_save_solar import download_solar_data"
   ]
  },
  {
   "cell_type": "code",
   "execution_count": null,
   "id": "70fadaa9",
   "metadata": {},
   "outputs": [],
   "source": [
    "# ===== 설정 =====\n",
    "BASE_PATH = r\"C:\\ESG_Project1\\file\\solar_data_file\"\n",
    "MAX_RETRY = 3\n",
    "start_year = 2022\n",
    "end_year = 2025\n",
    "\n",
    "# ===== 실행 =====\n",
    "for year in range(start_year, end_year + 1):\n",
    "    print(f\"\\n========== {year}년 데이터 다운로드 시작 ==========\")\n",
    "    download_solar_data(BASE_PATH, year, MAX_RETRY)\n",
    "print(\"\\n🎉 모든 연도 CSV 파일 다운로드 완료!\")\n",
    "\n",
    "for year in range(start_year, end_year + 1):\n",
    "    print(f\"\\n========== {year}년 XGBoost 학습 시작 ==========\")\n",
    "    train_xgboost_by_year(BASE_PATH, year)\n",
    "print(\"\\n🎉 모든 연도 XGBoost 학습 완료!\")"
   ]
  },
  {
   "cell_type": "code",
   "execution_count": null,
   "id": "860a2b7b",
   "metadata": {},
   "outputs": [],
   "source": [
    "from nbclient import NotebookClient\n",
    "from nbformat import read\n",
    "\n",
    "# 실행할 노트북 경로\n",
    "notebook_path = \"C:\\ESG_Project1\\map\\solar_map.ipynb\"\n",
    "\n",
    "with open(notebook_path) as f:\n",
    "    nb = read(f, as_version=4)\n",
    "\n",
    "client = NotebookClient(nb)\n",
    "client.execute()  # 노트북 전체 실행"
   ]
  },
  {
   "cell_type": "code",
   "execution_count": null,
   "id": "2140312d",
   "metadata": {},
   "outputs": [],
   "source": []
  },
  {
   "cell_type": "code",
   "execution_count": null,
   "id": "70e5b061",
   "metadata": {},
   "outputs": [],
   "source": []
  }
 ],
 "metadata": {
  "kernelspec": {
   "display_name": "project1",
   "language": "python",
   "name": "python3"
  },
  "language_info": {
   "codemirror_mode": {
    "name": "ipython",
    "version": 3
   },
   "file_extension": ".py",
   "mimetype": "text/x-python",
   "name": "python",
   "nbconvert_exporter": "python",
   "pygments_lexer": "ipython3",
   "version": "3.11.11"
  }
 },
 "nbformat": 4,
 "nbformat_minor": 5
}
